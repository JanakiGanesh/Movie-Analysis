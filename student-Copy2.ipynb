{
 "cells": [
  {
   "cell_type": "markdown",
   "metadata": {},
   "source": [
    "## Microsoft wants to make a Big Film\n"
   ]
  },
  {
   "cell_type": "markdown",
   "metadata": {},
   "source": [
    "## Overview\n",
    "This project focus on which type to movie to make based on audience point of view and what type of movie has gained profit .Microsoft team could use these analyses for their new beginging in the film industry.It would help them in making high grossing film"
   ]
  },
  {
   "cell_type": "markdown",
   "metadata": {},
   "source": [
    "## Business Problem\n",
    "Microsoft sees all the big companies creating original video content, and they want to get in on the fun. They have decided to create a new movie studio, but the problem is they don’t know anything about creating movies.I have used data based on genres and the movie length to find the high gross and high rating ."
   ]
  },
  {
   "cell_type": "code",
   "execution_count": 1,
   "metadata": {},
   "outputs": [],
   "source": [
    "import pandas as pd\n",
    "import numpy as np\n",
    "import matplotlib.pyplot as plt\n",
    "%matplotlib inline\n",
    "title=pd.read_csv('zippeddata/imdb.title.basics.csv.gz')\n",
    "rating=pd.read_csv('zippeddata/imdb.title.ratings.csv.gz')\n",
    "gross=pd.read_csv('zippedData/bom.movie_gross.csv.gz')\n",
    "budget=pd.read_csv('zippedData/tn.movie_budgets.csv.gz')\n",
    "crew=pd.read_csv('zippedData/imdb.title.crew.csv.gz')\n",
    "principals=pd.read_csv('zippedData/imdb.title.principals.csv.gz')\n",
    "movie_info=pd.read_csv('zippedData/rt.movie_info.tsv.gz', delimiter='\\t', encoding='iso-8859-1')\n",
    "reviews=pd.read_csv('zippedData/rt.reviews.tsv.gz', delimiter='\\t', encoding='iso-8859-1')\n",
    "titles=pd.read_csv('zippedData/tmdb.movies.csv.gz')\n",
    "# df = pd.read_csv('zippedData/rt.reviews.tsv.gz', compression='gzip', delimiter='\\t', encoding='iso-8859-1')\n",
    "\n"
   ]
  },
  {
   "cell_type": "markdown",
   "metadata": {},
   "source": []
  },
  {
   "cell_type": "code",
   "execution_count": 2,
   "metadata": {},
   "outputs": [
    {
     "name": "stdout",
     "output_type": "stream",
     "text": [
      "<class 'pandas.core.frame.DataFrame'>\n",
      "RangeIndex: 146144 entries, 0 to 146143\n",
      "Data columns (total 6 columns):\n",
      "tconst             146144 non-null object\n",
      "primary_title      146144 non-null object\n",
      "original_title     146123 non-null object\n",
      "start_year         146144 non-null int64\n",
      "runtime_minutes    114405 non-null float64\n",
      "genres             140736 non-null object\n",
      "dtypes: float64(1), int64(1), object(4)\n",
      "memory usage: 6.7+ MB\n"
     ]
    },
    {
     "data": {
      "text/html": [
       "<div>\n",
       "<style scoped>\n",
       "    .dataframe tbody tr th:only-of-type {\n",
       "        vertical-align: middle;\n",
       "    }\n",
       "\n",
       "    .dataframe tbody tr th {\n",
       "        vertical-align: top;\n",
       "    }\n",
       "\n",
       "    .dataframe thead th {\n",
       "        text-align: right;\n",
       "    }\n",
       "</style>\n",
       "<table border=\"1\" class=\"dataframe\">\n",
       "  <thead>\n",
       "    <tr style=\"text-align: right;\">\n",
       "      <th></th>\n",
       "      <th>tconst</th>\n",
       "      <th>primary_title</th>\n",
       "      <th>original_title</th>\n",
       "      <th>start_year</th>\n",
       "      <th>runtime_minutes</th>\n",
       "      <th>genres</th>\n",
       "    </tr>\n",
       "  </thead>\n",
       "  <tbody>\n",
       "    <tr>\n",
       "      <th>0</th>\n",
       "      <td>tt0063540</td>\n",
       "      <td>Sunghursh</td>\n",
       "      <td>Sunghursh</td>\n",
       "      <td>2013</td>\n",
       "      <td>175.0</td>\n",
       "      <td>Action,Crime,Drama</td>\n",
       "    </tr>\n",
       "    <tr>\n",
       "      <th>1</th>\n",
       "      <td>tt0066787</td>\n",
       "      <td>One Day Before the Rainy Season</td>\n",
       "      <td>Ashad Ka Ek Din</td>\n",
       "      <td>2019</td>\n",
       "      <td>114.0</td>\n",
       "      <td>Biography,Drama</td>\n",
       "    </tr>\n",
       "    <tr>\n",
       "      <th>2</th>\n",
       "      <td>tt0069049</td>\n",
       "      <td>The Other Side of the Wind</td>\n",
       "      <td>The Other Side of the Wind</td>\n",
       "      <td>2018</td>\n",
       "      <td>122.0</td>\n",
       "      <td>Drama</td>\n",
       "    </tr>\n",
       "    <tr>\n",
       "      <th>3</th>\n",
       "      <td>tt0069204</td>\n",
       "      <td>Sabse Bada Sukh</td>\n",
       "      <td>Sabse Bada Sukh</td>\n",
       "      <td>2018</td>\n",
       "      <td>NaN</td>\n",
       "      <td>Comedy,Drama</td>\n",
       "    </tr>\n",
       "    <tr>\n",
       "      <th>4</th>\n",
       "      <td>tt0100275</td>\n",
       "      <td>The Wandering Soap Opera</td>\n",
       "      <td>La Telenovela Errante</td>\n",
       "      <td>2017</td>\n",
       "      <td>80.0</td>\n",
       "      <td>Comedy,Drama,Fantasy</td>\n",
       "    </tr>\n",
       "  </tbody>\n",
       "</table>\n",
       "</div>"
      ],
      "text/plain": [
       "      tconst                    primary_title              original_title  \\\n",
       "0  tt0063540                        Sunghursh                   Sunghursh   \n",
       "1  tt0066787  One Day Before the Rainy Season             Ashad Ka Ek Din   \n",
       "2  tt0069049       The Other Side of the Wind  The Other Side of the Wind   \n",
       "3  tt0069204                  Sabse Bada Sukh             Sabse Bada Sukh   \n",
       "4  tt0100275         The Wandering Soap Opera       La Telenovela Errante   \n",
       "\n",
       "   start_year  runtime_minutes                genres  \n",
       "0        2013            175.0    Action,Crime,Drama  \n",
       "1        2019            114.0       Biography,Drama  \n",
       "2        2018            122.0                 Drama  \n",
       "3        2018              NaN          Comedy,Drama  \n",
       "4        2017             80.0  Comedy,Drama,Fantasy  "
      ]
     },
     "execution_count": 2,
     "metadata": {},
     "output_type": "execute_result"
    }
   ],
   "source": [
    "title.info()\n",
    "title.head()\n",
    "# titles.info()"
   ]
  },
  {
   "cell_type": "code",
   "execution_count": 3,
   "metadata": {
    "scrolled": true
   },
   "outputs": [
    {
     "name": "stdout",
     "output_type": "stream",
     "text": [
      "<class 'pandas.core.frame.DataFrame'>\n",
      "RangeIndex: 3387 entries, 0 to 3386\n",
      "Data columns (total 5 columns):\n",
      "title             3387 non-null object\n",
      "studio            3382 non-null object\n",
      "domestic_gross    3359 non-null float64\n",
      "foreign_gross     2037 non-null object\n",
      "year              3387 non-null int64\n",
      "dtypes: float64(1), int64(1), object(3)\n",
      "memory usage: 132.4+ KB\n"
     ]
    }
   ],
   "source": [
    "gross.info()"
   ]
  },
  {
   "cell_type": "code",
   "execution_count": 4,
   "metadata": {},
   "outputs": [
    {
     "name": "stdout",
     "output_type": "stream",
     "text": [
      "<class 'pandas.core.frame.DataFrame'>\n",
      "RangeIndex: 73856 entries, 0 to 73855\n",
      "Data columns (total 3 columns):\n",
      "tconst           73856 non-null object\n",
      "averagerating    73856 non-null float64\n",
      "numvotes         73856 non-null int64\n",
      "dtypes: float64(1), int64(1), object(1)\n",
      "memory usage: 1.7+ MB\n"
     ]
    }
   ],
   "source": [
    "rating.info()"
   ]
  },
  {
   "cell_type": "code",
   "execution_count": 5,
   "metadata": {},
   "outputs": [
    {
     "data": {
      "text/plain": [
       "5"
      ]
     },
     "execution_count": 5,
     "metadata": {},
     "output_type": "execute_result"
    }
   ],
   "source": [
    "gross['foreign_gross'].str.contains(',').sum()\n"
   ]
  },
  {
   "cell_type": "code",
   "execution_count": 6,
   "metadata": {},
   "outputs": [],
   "source": [
    "gross['foreign_gross']=gross['foreign_gross'].str.replace(',','')\n"
   ]
  },
  {
   "cell_type": "code",
   "execution_count": 7,
   "metadata": {},
   "outputs": [
    {
     "data": {
      "text/plain": [
       "False"
      ]
     },
     "execution_count": 7,
     "metadata": {},
     "output_type": "execute_result"
    }
   ],
   "source": [
    "gross['foreign_gross'].str.contains(',').any()"
   ]
  },
  {
   "cell_type": "code",
   "execution_count": 8,
   "metadata": {},
   "outputs": [
    {
     "data": {
      "text/plain": [
       "2037"
      ]
     },
     "execution_count": 8,
     "metadata": {},
     "output_type": "execute_result"
    }
   ],
   "source": [
    "gross['foreign_gross'].str.contains('.').sum()"
   ]
  },
  {
   "cell_type": "code",
   "execution_count": 9,
   "metadata": {},
   "outputs": [],
   "source": [
    "gross['foreign_gross']=gross['foreign_gross'].astype(float)"
   ]
  },
  {
   "cell_type": "code",
   "execution_count": 10,
   "metadata": {},
   "outputs": [
    {
     "name": "stdout",
     "output_type": "stream",
     "text": [
      "<class 'pandas.core.frame.DataFrame'>\n",
      "RangeIndex: 3387 entries, 0 to 3386\n",
      "Data columns (total 5 columns):\n",
      "title             3387 non-null object\n",
      "studio            3382 non-null object\n",
      "domestic_gross    3359 non-null float64\n",
      "foreign_gross     2037 non-null float64\n",
      "year              3387 non-null int64\n",
      "dtypes: float64(2), int64(1), object(2)\n",
      "memory usage: 132.4+ KB\n"
     ]
    }
   ],
   "source": [
    "gross.info()"
   ]
  },
  {
   "cell_type": "markdown",
   "metadata": {},
   "source": [
    "### Data Cleaning"
   ]
  },
  {
   "cell_type": "code",
   "execution_count": 11,
   "metadata": {},
   "outputs": [
    {
     "data": {
      "text/html": [
       "<div>\n",
       "<style scoped>\n",
       "    .dataframe tbody tr th:only-of-type {\n",
       "        vertical-align: middle;\n",
       "    }\n",
       "\n",
       "    .dataframe tbody tr th {\n",
       "        vertical-align: top;\n",
       "    }\n",
       "\n",
       "    .dataframe thead th {\n",
       "        text-align: right;\n",
       "    }\n",
       "</style>\n",
       "<table border=\"1\" class=\"dataframe\">\n",
       "  <thead>\n",
       "    <tr style=\"text-align: right;\">\n",
       "      <th></th>\n",
       "      <th>tconst</th>\n",
       "      <th>primary_title</th>\n",
       "      <th>original_title</th>\n",
       "      <th>start_year</th>\n",
       "      <th>runtime_minutes</th>\n",
       "      <th>genres</th>\n",
       "    </tr>\n",
       "  </thead>\n",
       "  <tbody>\n",
       "    <tr>\n",
       "      <th>0</th>\n",
       "      <td>tt0063540</td>\n",
       "      <td>Sunghursh</td>\n",
       "      <td>Sunghursh</td>\n",
       "      <td>2013</td>\n",
       "      <td>175.0</td>\n",
       "      <td>Action,Crime,Drama</td>\n",
       "    </tr>\n",
       "    <tr>\n",
       "      <th>1</th>\n",
       "      <td>tt0066787</td>\n",
       "      <td>One Day Before the Rainy Season</td>\n",
       "      <td>Ashad Ka Ek Din</td>\n",
       "      <td>2019</td>\n",
       "      <td>114.0</td>\n",
       "      <td>Biography,Drama</td>\n",
       "    </tr>\n",
       "    <tr>\n",
       "      <th>2</th>\n",
       "      <td>tt0069049</td>\n",
       "      <td>The Other Side of the Wind</td>\n",
       "      <td>The Other Side of the Wind</td>\n",
       "      <td>2018</td>\n",
       "      <td>122.0</td>\n",
       "      <td>Drama</td>\n",
       "    </tr>\n",
       "    <tr>\n",
       "      <th>3</th>\n",
       "      <td>tt0069204</td>\n",
       "      <td>Sabse Bada Sukh</td>\n",
       "      <td>Sabse Bada Sukh</td>\n",
       "      <td>2018</td>\n",
       "      <td>NaN</td>\n",
       "      <td>Comedy,Drama</td>\n",
       "    </tr>\n",
       "    <tr>\n",
       "      <th>4</th>\n",
       "      <td>tt0100275</td>\n",
       "      <td>The Wandering Soap Opera</td>\n",
       "      <td>La Telenovela Errante</td>\n",
       "      <td>2017</td>\n",
       "      <td>80.0</td>\n",
       "      <td>Comedy,Drama,Fantasy</td>\n",
       "    </tr>\n",
       "  </tbody>\n",
       "</table>\n",
       "</div>"
      ],
      "text/plain": [
       "      tconst                    primary_title              original_title  \\\n",
       "0  tt0063540                        Sunghursh                   Sunghursh   \n",
       "1  tt0066787  One Day Before the Rainy Season             Ashad Ka Ek Din   \n",
       "2  tt0069049       The Other Side of the Wind  The Other Side of the Wind   \n",
       "3  tt0069204                  Sabse Bada Sukh             Sabse Bada Sukh   \n",
       "4  tt0100275         The Wandering Soap Opera       La Telenovela Errante   \n",
       "\n",
       "   start_year  runtime_minutes                genres  \n",
       "0        2013            175.0    Action,Crime,Drama  \n",
       "1        2019            114.0       Biography,Drama  \n",
       "2        2018            122.0                 Drama  \n",
       "3        2018              NaN          Comedy,Drama  \n",
       "4        2017             80.0  Comedy,Drama,Fantasy  "
      ]
     },
     "execution_count": 11,
     "metadata": {},
     "output_type": "execute_result"
    }
   ],
   "source": [
    "title.head()"
   ]
  },
  {
   "cell_type": "code",
   "execution_count": 12,
   "metadata": {},
   "outputs": [],
   "source": [
    "# title.drop('original_title',axis=1,inplace=True)"
   ]
  },
  {
   "cell_type": "code",
   "execution_count": 13,
   "metadata": {},
   "outputs": [
    {
     "name": "stdout",
     "output_type": "stream",
     "text": [
      "<class 'pandas.core.frame.DataFrame'>\n",
      "RangeIndex: 146144 entries, 0 to 146143\n",
      "Data columns (total 6 columns):\n",
      "tconst             146144 non-null object\n",
      "primary_title      146144 non-null object\n",
      "original_title     146123 non-null object\n",
      "start_year         146144 non-null int64\n",
      "runtime_minutes    114405 non-null float64\n",
      "genres             140736 non-null object\n",
      "dtypes: float64(1), int64(1), object(4)\n",
      "memory usage: 6.7+ MB\n"
     ]
    }
   ],
   "source": [
    "title.info()"
   ]
  },
  {
   "cell_type": "code",
   "execution_count": 14,
   "metadata": {},
   "outputs": [],
   "source": [
    "title['runtime_minutes']=title['runtime_minutes'].fillna(0)"
   ]
  },
  {
   "cell_type": "code",
   "execution_count": 15,
   "metadata": {},
   "outputs": [
    {
     "name": "stdout",
     "output_type": "stream",
     "text": [
      "<class 'pandas.core.frame.DataFrame'>\n",
      "RangeIndex: 146144 entries, 0 to 146143\n",
      "Data columns (total 6 columns):\n",
      "tconst             146144 non-null object\n",
      "primary_title      146144 non-null object\n",
      "original_title     146123 non-null object\n",
      "start_year         146144 non-null int64\n",
      "runtime_minutes    146144 non-null float64\n",
      "genres             140736 non-null object\n",
      "dtypes: float64(1), int64(1), object(4)\n",
      "memory usage: 6.7+ MB\n"
     ]
    }
   ],
   "source": [
    "title.info()"
   ]
  },
  {
   "cell_type": "code",
   "execution_count": 16,
   "metadata": {},
   "outputs": [
    {
     "data": {
      "text/plain": [
       "0.037004598204510616"
      ]
     },
     "execution_count": 16,
     "metadata": {},
     "output_type": "execute_result"
    }
   ],
   "source": [
    "title['genres'].isna().sum()/len(title)"
   ]
  },
  {
   "cell_type": "code",
   "execution_count": 17,
   "metadata": {},
   "outputs": [],
   "source": [
    "title=title.dropna()"
   ]
  },
  {
   "cell_type": "code",
   "execution_count": 18,
   "metadata": {},
   "outputs": [
    {
     "name": "stdout",
     "output_type": "stream",
     "text": [
      "<class 'pandas.core.frame.DataFrame'>\n",
      "Int64Index: 140734 entries, 0 to 146143\n",
      "Data columns (total 6 columns):\n",
      "tconst             140734 non-null object\n",
      "primary_title      140734 non-null object\n",
      "original_title     140734 non-null object\n",
      "start_year         140734 non-null int64\n",
      "runtime_minutes    140734 non-null float64\n",
      "genres             140734 non-null object\n",
      "dtypes: float64(1), int64(1), object(4)\n",
      "memory usage: 7.5+ MB\n"
     ]
    }
   ],
   "source": [
    "title.info()"
   ]
  },
  {
   "cell_type": "code",
   "execution_count": 19,
   "metadata": {},
   "outputs": [],
   "source": [
    "title[title.duplicated(subset=['primary_title','start_year','runtime_minutes'],keep=False)].sort_values(by='primary_title')\n",
    "title.drop_duplicates(subset=['primary_title','start_year','runtime_minutes'],inplace=True)"
   ]
  },
  {
   "cell_type": "code",
   "execution_count": 20,
   "metadata": {},
   "outputs": [
    {
     "data": {
      "text/plain": [
       "tconst             False\n",
       "primary_title      False\n",
       "original_title     False\n",
       "start_year         False\n",
       "runtime_minutes    False\n",
       "genres             False\n",
       "dtype: bool"
      ]
     },
     "execution_count": 20,
     "metadata": {},
     "output_type": "execute_result"
    }
   ],
   "source": [
    "title[title.duplicated(subset=['primary_title','start_year','runtime_minutes'],keep=False)].sort_values(by='primary_title').any()"
   ]
  },
  {
   "cell_type": "code",
   "execution_count": 21,
   "metadata": {},
   "outputs": [],
   "source": [
    "title[title.duplicated(subset=['primary_title','start_year'],keep=False)].sort_values(by='primary_title')\n",
    "title.drop_duplicates(subset=['primary_title','start_year'],inplace=True)"
   ]
  },
  {
   "cell_type": "code",
   "execution_count": 22,
   "metadata": {},
   "outputs": [],
   "source": [
    "# title[title['primary_title'].str.contains(\"\\(\")]"
   ]
  },
  {
   "cell_type": "code",
   "execution_count": 23,
   "metadata": {},
   "outputs": [
    {
     "data": {
      "text/plain": [
       "tconst             False\n",
       "primary_title      False\n",
       "original_title     False\n",
       "start_year         False\n",
       "runtime_minutes    False\n",
       "genres             False\n",
       "dtype: bool"
      ]
     },
     "execution_count": 23,
     "metadata": {},
     "output_type": "execute_result"
    }
   ],
   "source": [
    "title[title.duplicated(subset=['primary_title','start_year'],keep=False)].sort_values(by='primary_title').any()"
   ]
  },
  {
   "cell_type": "code",
   "execution_count": 24,
   "metadata": {},
   "outputs": [],
   "source": [
    "title.drop('original_title',axis=1,inplace=True)"
   ]
  },
  {
   "cell_type": "code",
   "execution_count": 25,
   "metadata": {},
   "outputs": [
    {
     "name": "stdout",
     "output_type": "stream",
     "text": [
      "<class 'pandas.core.frame.DataFrame'>\n",
      "Int64Index: 138924 entries, 0 to 146143\n",
      "Data columns (total 5 columns):\n",
      "tconst             138924 non-null object\n",
      "primary_title      138924 non-null object\n",
      "start_year         138924 non-null int64\n",
      "runtime_minutes    138924 non-null float64\n",
      "genres             138924 non-null object\n",
      "dtypes: float64(1), int64(1), object(3)\n",
      "memory usage: 6.4+ MB\n"
     ]
    }
   ],
   "source": [
    "title.info()"
   ]
  },
  {
   "cell_type": "code",
   "execution_count": 26,
   "metadata": {},
   "outputs": [
    {
     "name": "stdout",
     "output_type": "stream",
     "text": [
      "<class 'pandas.core.frame.DataFrame'>\n",
      "RangeIndex: 3387 entries, 0 to 3386\n",
      "Data columns (total 5 columns):\n",
      "title             3387 non-null object\n",
      "studio            3382 non-null object\n",
      "domestic_gross    3359 non-null float64\n",
      "foreign_gross     2037 non-null float64\n",
      "year              3387 non-null int64\n",
      "dtypes: float64(2), int64(1), object(2)\n",
      "memory usage: 132.4+ KB\n"
     ]
    }
   ],
   "source": [
    "gross.info()"
   ]
  },
  {
   "cell_type": "code",
   "execution_count": 27,
   "metadata": {},
   "outputs": [
    {
     "data": {
      "text/plain": [
       "False"
      ]
     },
     "execution_count": 27,
     "metadata": {},
     "output_type": "execute_result"
    }
   ],
   "source": [
    "gross.duplicated().any()"
   ]
  },
  {
   "cell_type": "code",
   "execution_count": 28,
   "metadata": {},
   "outputs": [
    {
     "data": {
      "text/html": [
       "<div>\n",
       "<style scoped>\n",
       "    .dataframe tbody tr th:only-of-type {\n",
       "        vertical-align: middle;\n",
       "    }\n",
       "\n",
       "    .dataframe tbody tr th {\n",
       "        vertical-align: top;\n",
       "    }\n",
       "\n",
       "    .dataframe thead th {\n",
       "        text-align: right;\n",
       "    }\n",
       "</style>\n",
       "<table border=\"1\" class=\"dataframe\">\n",
       "  <thead>\n",
       "    <tr style=\"text-align: right;\">\n",
       "      <th></th>\n",
       "      <th>title</th>\n",
       "      <th>studio</th>\n",
       "      <th>domestic_gross</th>\n",
       "      <th>foreign_gross</th>\n",
       "      <th>year</th>\n",
       "    </tr>\n",
       "  </thead>\n",
       "  <tbody>\n",
       "    <tr>\n",
       "      <th>317</th>\n",
       "      <td>Bluebeard</td>\n",
       "      <td>Strand</td>\n",
       "      <td>33500.0</td>\n",
       "      <td>5200.0</td>\n",
       "      <td>2010</td>\n",
       "    </tr>\n",
       "    <tr>\n",
       "      <th>3045</th>\n",
       "      <td>Bluebeard</td>\n",
       "      <td>WGUSA</td>\n",
       "      <td>43100.0</td>\n",
       "      <td>NaN</td>\n",
       "      <td>2017</td>\n",
       "    </tr>\n",
       "  </tbody>\n",
       "</table>\n",
       "</div>"
      ],
      "text/plain": [
       "          title  studio  domestic_gross  foreign_gross  year\n",
       "317   Bluebeard  Strand         33500.0         5200.0  2010\n",
       "3045  Bluebeard   WGUSA         43100.0            NaN  2017"
      ]
     },
     "execution_count": 28,
     "metadata": {},
     "output_type": "execute_result"
    }
   ],
   "source": [
    "gross[gross.duplicated(subset='title',keep=False)]"
   ]
  },
  {
   "cell_type": "code",
   "execution_count": 29,
   "metadata": {},
   "outputs": [],
   "source": [
    "# gross.isna().sum()"
   ]
  },
  {
   "cell_type": "code",
   "execution_count": 30,
   "metadata": {},
   "outputs": [],
   "source": [
    "# gross['foreign_gross'].isna().sum()/len(gross['foreign_gross'])"
   ]
  },
  {
   "cell_type": "code",
   "execution_count": 31,
   "metadata": {},
   "outputs": [],
   "source": [
    "# gross.describe()\n",
    "# print(gross['foreign_gross'].apply(['median','mean','std']))\n"
   ]
  },
  {
   "cell_type": "code",
   "execution_count": 32,
   "metadata": {},
   "outputs": [],
   "source": [
    "# gross['foreign_gross'].plot(kind='hist',figsize=(10,8))\n",
    "# gross.hist(column='foreign_gross')"
   ]
  },
  {
   "cell_type": "code",
   "execution_count": 33,
   "metadata": {},
   "outputs": [],
   "source": [
    "# gross_mean=gross['foreign_gross'].fillna(value=gross['foreign_gross'].mean())\n",
    "# print(gross_mean.apply(['median','mean','std']))\n",
    "# gross_mean.hist()\n"
   ]
  },
  {
   "cell_type": "code",
   "execution_count": 34,
   "metadata": {},
   "outputs": [],
   "source": [
    "# gross_median=gross['foreign_gross'].fillna(gross['foreign_gross'].median())\n",
    "# print(gross_median.apply(['median','mean','std']))\n",
    "# gross_median.hist()"
   ]
  },
  {
   "cell_type": "code",
   "execution_count": 35,
   "metadata": {},
   "outputs": [],
   "source": [
    "# title_tconst=pd.merge(title,rating, on='tconst',how='left')\n",
    "title_tconst=title.merge(rating,on='tconst',how='inner')\n",
    "# title_tconst.head()\n",
    "\n",
    "# animal_shelter_df  = pd.merge(intakes, \n",
    "#                               outcomes, \n",
    "#                               on=['animal_id', 'event_num'], \n",
    "#                               how='left')"
   ]
  },
  {
   "cell_type": "code",
   "execution_count": 36,
   "metadata": {},
   "outputs": [
    {
     "name": "stdout",
     "output_type": "stream",
     "text": [
      "<class 'pandas.core.frame.DataFrame'>\n",
      "Int64Index: 72300 entries, 0 to 72299\n",
      "Data columns (total 7 columns):\n",
      "tconst             72300 non-null object\n",
      "primary_title      72300 non-null object\n",
      "start_year         72300 non-null int64\n",
      "runtime_minutes    72300 non-null float64\n",
      "genres             72300 non-null object\n",
      "averagerating      72300 non-null float64\n",
      "numvotes           72300 non-null int64\n",
      "dtypes: float64(2), int64(2), object(3)\n",
      "memory usage: 4.4+ MB\n"
     ]
    }
   ],
   "source": [
    "title_tconst.info()"
   ]
  },
  {
   "cell_type": "code",
   "execution_count": 37,
   "metadata": {},
   "outputs": [
    {
     "data": {
      "text/html": [
       "<div>\n",
       "<style scoped>\n",
       "    .dataframe tbody tr th:only-of-type {\n",
       "        vertical-align: middle;\n",
       "    }\n",
       "\n",
       "    .dataframe tbody tr th {\n",
       "        vertical-align: top;\n",
       "    }\n",
       "\n",
       "    .dataframe thead th {\n",
       "        text-align: right;\n",
       "    }\n",
       "</style>\n",
       "<table border=\"1\" class=\"dataframe\">\n",
       "  <thead>\n",
       "    <tr style=\"text-align: right;\">\n",
       "      <th></th>\n",
       "      <th>tconst</th>\n",
       "      <th>primary_title</th>\n",
       "      <th>start_year</th>\n",
       "      <th>runtime_minutes</th>\n",
       "      <th>genres</th>\n",
       "      <th>averagerating</th>\n",
       "      <th>numvotes</th>\n",
       "    </tr>\n",
       "  </thead>\n",
       "  <tbody>\n",
       "  </tbody>\n",
       "</table>\n",
       "</div>"
      ],
      "text/plain": [
       "Empty DataFrame\n",
       "Columns: [tconst, primary_title, start_year, runtime_minutes, genres, averagerating, numvotes]\n",
       "Index: []"
      ]
     },
     "execution_count": 37,
     "metadata": {},
     "output_type": "execute_result"
    }
   ],
   "source": [
    "# title_tconst[title_tconst['primary_title'].str.contains('\\(')]\n",
    "title_tconst[title_tconst.duplicated(subset=['primary_title','start_year'],keep=False)].sort_values(by='primary_title')"
   ]
  },
  {
   "cell_type": "code",
   "execution_count": 38,
   "metadata": {},
   "outputs": [
    {
     "name": "stdout",
     "output_type": "stream",
     "text": [
      "<class 'pandas.core.frame.DataFrame'>\n",
      "Int64Index: 72300 entries, 0 to 72299\n",
      "Data columns (total 7 columns):\n",
      "tconst             72300 non-null object\n",
      "title              72300 non-null object\n",
      "year               72300 non-null int64\n",
      "runtime_minutes    72300 non-null float64\n",
      "genres             72300 non-null object\n",
      "averagerating      72300 non-null float64\n",
      "numvotes           72300 non-null int64\n",
      "dtypes: float64(2), int64(2), object(3)\n",
      "memory usage: 4.4+ MB\n"
     ]
    }
   ],
   "source": [
    "title_tconst.rename(columns={'primary_title':'title','start_year':'year'},inplace=True)\n",
    "title_tconst.info()\n"
   ]
  },
  {
   "cell_type": "code",
   "execution_count": 39,
   "metadata": {},
   "outputs": [],
   "source": [
    "# movie_data=title_tconst.merge([gross,budget],on='title',how='left')\n",
    "# title_tconst.merge(gross,on='title').merge(budget,on='title')\n",
    "# df1.merge(df2,on='name').merge(df3,on='name')\n",
    "#  result = pd.merge(left, right, how='left', on=['key1', 'key2'])\n",
    "# dfs=[title_tconst,budget,gross]\n",
    "# result_1 = pd.concat(dfs, join='outer', axis=1)\n",
    "# result = pd.merge(title_tconst, gross, budget, how='left', on='title')\n",
    "# df = pd.merge(title_tconst, budget, on=['title','year'],how='outer')\n",
    "df= pd.merge(title_tconst, gross, on=['title','year'],how='left')\n",
    "# title_tconst=title.merge(rating,on='tconst',how='left')\n"
   ]
  },
  {
   "cell_type": "code",
   "execution_count": 40,
   "metadata": {},
   "outputs": [
    {
     "name": "stdout",
     "output_type": "stream",
     "text": [
      "<class 'pandas.core.frame.DataFrame'>\n",
      "Int64Index: 72300 entries, 0 to 72299\n",
      "Data columns (total 10 columns):\n",
      "tconst             72300 non-null object\n",
      "title              72300 non-null object\n",
      "year               72300 non-null int64\n",
      "runtime_minutes    72300 non-null float64\n",
      "genres             72300 non-null object\n",
      "averagerating      72300 non-null float64\n",
      "numvotes           72300 non-null int64\n",
      "studio             1820 non-null object\n",
      "domestic_gross     1812 non-null float64\n",
      "foreign_gross      1252 non-null float64\n",
      "dtypes: float64(4), int64(2), object(4)\n",
      "memory usage: 6.1+ MB\n"
     ]
    }
   ],
   "source": [
    "df.info()"
   ]
  },
  {
   "cell_type": "code",
   "execution_count": 41,
   "metadata": {},
   "outputs": [
    {
     "data": {
      "text/plain": [
       "tconst               tt9916160\n",
       "title               Drømmeland\n",
       "year                      2019\n",
       "runtime_minutes             72\n",
       "genres             Documentary\n",
       "averagerating              6.5\n",
       "numvotes                    11\n",
       "studio                     NaN\n",
       "domestic_gross             NaN\n",
       "foreign_gross              NaN\n",
       "Name: 72299, dtype: object"
      ]
     },
     "execution_count": 41,
     "metadata": {},
     "output_type": "execute_result"
    }
   ],
   "source": [
    "df.iloc[-1]"
   ]
  },
  {
   "cell_type": "code",
   "execution_count": 42,
   "metadata": {},
   "outputs": [],
   "source": [
    "genres_list=df['genres'].str.split(',')"
   ]
  },
  {
   "cell_type": "code",
   "execution_count": 43,
   "metadata": {},
   "outputs": [
    {
     "data": {
      "text/plain": [
       "['Horror', 'Thriller']"
      ]
     },
     "execution_count": 43,
     "metadata": {},
     "output_type": "execute_result"
    }
   ],
   "source": [
    "list1=list(genres_list[:5])\n",
    "list1\n",
    "genres_list[5]"
   ]
  },
  {
   "cell_type": "markdown",
   "metadata": {},
   "source": [
    "### Analysis"
   ]
  },
  {
   "cell_type": "code",
   "execution_count": 44,
   "metadata": {},
   "outputs": [],
   "source": [
    "# def genres_category(list_val):\n",
    "#     categories = []\n",
    "#     for category in list_val:\n",
    "#         for n in category:\n",
    "#             categories.append(n)\n",
    "#     return categories\n",
    "            "
   ]
  },
  {
   "cell_type": "code",
   "execution_count": 45,
   "metadata": {},
   "outputs": [],
   "source": [
    "categories = []\n",
    "for category in genres_list:\n",
    "    for n in category:\n",
    "        categories.append(n)\n",
    "        "
   ]
  },
  {
   "cell_type": "code",
   "execution_count": 46,
   "metadata": {},
   "outputs": [],
   "source": [
    "genres_list_data=list(set(categories))"
   ]
  },
  {
   "cell_type": "code",
   "execution_count": 47,
   "metadata": {},
   "outputs": [],
   "source": [
    "genres_list_data=sorted(genres_list_data)"
   ]
  },
  {
   "cell_type": "code",
   "execution_count": 48,
   "metadata": {},
   "outputs": [
    {
     "data": {
      "text/plain": [
       "26"
      ]
     },
     "execution_count": 48,
     "metadata": {},
     "output_type": "execute_result"
    }
   ],
   "source": [
    "len(genres_list_data)"
   ]
  },
  {
   "cell_type": "code",
   "execution_count": 49,
   "metadata": {},
   "outputs": [],
   "source": [
    "df_genres=pd.DataFrame(genres_list)"
   ]
  },
  {
   "cell_type": "code",
   "execution_count": 50,
   "metadata": {},
   "outputs": [
    {
     "name": "stdout",
     "output_type": "stream",
     "text": [
      "<class 'pandas.core.frame.DataFrame'>\n",
      "Int64Index: 72300 entries, 0 to 72299\n",
      "Data columns (total 1 columns):\n",
      "genres    72300 non-null object\n",
      "dtypes: object(1)\n",
      "memory usage: 3.6+ MB\n"
     ]
    }
   ],
   "source": [
    "df_genres.info()"
   ]
  },
  {
   "cell_type": "code",
   "execution_count": 51,
   "metadata": {},
   "outputs": [
    {
     "data": {
      "text/html": [
       "<div>\n",
       "<style scoped>\n",
       "    .dataframe tbody tr th:only-of-type {\n",
       "        vertical-align: middle;\n",
       "    }\n",
       "\n",
       "    .dataframe tbody tr th {\n",
       "        vertical-align: top;\n",
       "    }\n",
       "\n",
       "    .dataframe thead th {\n",
       "        text-align: right;\n",
       "    }\n",
       "</style>\n",
       "<table border=\"1\" class=\"dataframe\">\n",
       "  <thead>\n",
       "    <tr style=\"text-align: right;\">\n",
       "      <th></th>\n",
       "      <th>genres</th>\n",
       "    </tr>\n",
       "  </thead>\n",
       "  <tbody>\n",
       "    <tr>\n",
       "      <th>0</th>\n",
       "      <td>[Action, Crime, Drama]</td>\n",
       "    </tr>\n",
       "    <tr>\n",
       "      <th>1</th>\n",
       "      <td>[Biography, Drama]</td>\n",
       "    </tr>\n",
       "    <tr>\n",
       "      <th>2</th>\n",
       "      <td>[Drama]</td>\n",
       "    </tr>\n",
       "    <tr>\n",
       "      <th>3</th>\n",
       "      <td>[Comedy, Drama]</td>\n",
       "    </tr>\n",
       "    <tr>\n",
       "      <th>4</th>\n",
       "      <td>[Comedy, Drama, Fantasy]</td>\n",
       "    </tr>\n",
       "  </tbody>\n",
       "</table>\n",
       "</div>"
      ],
      "text/plain": [
       "                     genres\n",
       "0    [Action, Crime, Drama]\n",
       "1        [Biography, Drama]\n",
       "2                   [Drama]\n",
       "3           [Comedy, Drama]\n",
       "4  [Comedy, Drama, Fantasy]"
      ]
     },
     "execution_count": 51,
     "metadata": {},
     "output_type": "execute_result"
    }
   ],
   "source": [
    "df_genres.head()"
   ]
  },
  {
   "cell_type": "code",
   "execution_count": 52,
   "metadata": {},
   "outputs": [],
   "source": [
    "for value in genres_list_data:\n",
    "    df_genres[value]=0"
   ]
  },
  {
   "cell_type": "code",
   "execution_count": 53,
   "metadata": {},
   "outputs": [
    {
     "data": {
      "text/html": [
       "<div>\n",
       "<style scoped>\n",
       "    .dataframe tbody tr th:only-of-type {\n",
       "        vertical-align: middle;\n",
       "    }\n",
       "\n",
       "    .dataframe tbody tr th {\n",
       "        vertical-align: top;\n",
       "    }\n",
       "\n",
       "    .dataframe thead th {\n",
       "        text-align: right;\n",
       "    }\n",
       "</style>\n",
       "<table border=\"1\" class=\"dataframe\">\n",
       "  <thead>\n",
       "    <tr style=\"text-align: right;\">\n",
       "      <th></th>\n",
       "      <th>genres</th>\n",
       "      <th>Action</th>\n",
       "      <th>Adult</th>\n",
       "      <th>Adventure</th>\n",
       "      <th>Animation</th>\n",
       "      <th>Biography</th>\n",
       "      <th>Comedy</th>\n",
       "      <th>Crime</th>\n",
       "      <th>Documentary</th>\n",
       "      <th>Drama</th>\n",
       "      <th>...</th>\n",
       "      <th>Mystery</th>\n",
       "      <th>News</th>\n",
       "      <th>Reality-TV</th>\n",
       "      <th>Romance</th>\n",
       "      <th>Sci-Fi</th>\n",
       "      <th>Short</th>\n",
       "      <th>Sport</th>\n",
       "      <th>Thriller</th>\n",
       "      <th>War</th>\n",
       "      <th>Western</th>\n",
       "    </tr>\n",
       "  </thead>\n",
       "  <tbody>\n",
       "    <tr>\n",
       "      <th>0</th>\n",
       "      <td>[Action, Crime, Drama]</td>\n",
       "      <td>0</td>\n",
       "      <td>0</td>\n",
       "      <td>0</td>\n",
       "      <td>0</td>\n",
       "      <td>0</td>\n",
       "      <td>0</td>\n",
       "      <td>0</td>\n",
       "      <td>0</td>\n",
       "      <td>0</td>\n",
       "      <td>...</td>\n",
       "      <td>0</td>\n",
       "      <td>0</td>\n",
       "      <td>0</td>\n",
       "      <td>0</td>\n",
       "      <td>0</td>\n",
       "      <td>0</td>\n",
       "      <td>0</td>\n",
       "      <td>0</td>\n",
       "      <td>0</td>\n",
       "      <td>0</td>\n",
       "    </tr>\n",
       "    <tr>\n",
       "      <th>1</th>\n",
       "      <td>[Biography, Drama]</td>\n",
       "      <td>0</td>\n",
       "      <td>0</td>\n",
       "      <td>0</td>\n",
       "      <td>0</td>\n",
       "      <td>0</td>\n",
       "      <td>0</td>\n",
       "      <td>0</td>\n",
       "      <td>0</td>\n",
       "      <td>0</td>\n",
       "      <td>...</td>\n",
       "      <td>0</td>\n",
       "      <td>0</td>\n",
       "      <td>0</td>\n",
       "      <td>0</td>\n",
       "      <td>0</td>\n",
       "      <td>0</td>\n",
       "      <td>0</td>\n",
       "      <td>0</td>\n",
       "      <td>0</td>\n",
       "      <td>0</td>\n",
       "    </tr>\n",
       "    <tr>\n",
       "      <th>2</th>\n",
       "      <td>[Drama]</td>\n",
       "      <td>0</td>\n",
       "      <td>0</td>\n",
       "      <td>0</td>\n",
       "      <td>0</td>\n",
       "      <td>0</td>\n",
       "      <td>0</td>\n",
       "      <td>0</td>\n",
       "      <td>0</td>\n",
       "      <td>0</td>\n",
       "      <td>...</td>\n",
       "      <td>0</td>\n",
       "      <td>0</td>\n",
       "      <td>0</td>\n",
       "      <td>0</td>\n",
       "      <td>0</td>\n",
       "      <td>0</td>\n",
       "      <td>0</td>\n",
       "      <td>0</td>\n",
       "      <td>0</td>\n",
       "      <td>0</td>\n",
       "    </tr>\n",
       "    <tr>\n",
       "      <th>3</th>\n",
       "      <td>[Comedy, Drama]</td>\n",
       "      <td>0</td>\n",
       "      <td>0</td>\n",
       "      <td>0</td>\n",
       "      <td>0</td>\n",
       "      <td>0</td>\n",
       "      <td>0</td>\n",
       "      <td>0</td>\n",
       "      <td>0</td>\n",
       "      <td>0</td>\n",
       "      <td>...</td>\n",
       "      <td>0</td>\n",
       "      <td>0</td>\n",
       "      <td>0</td>\n",
       "      <td>0</td>\n",
       "      <td>0</td>\n",
       "      <td>0</td>\n",
       "      <td>0</td>\n",
       "      <td>0</td>\n",
       "      <td>0</td>\n",
       "      <td>0</td>\n",
       "    </tr>\n",
       "    <tr>\n",
       "      <th>4</th>\n",
       "      <td>[Comedy, Drama, Fantasy]</td>\n",
       "      <td>0</td>\n",
       "      <td>0</td>\n",
       "      <td>0</td>\n",
       "      <td>0</td>\n",
       "      <td>0</td>\n",
       "      <td>0</td>\n",
       "      <td>0</td>\n",
       "      <td>0</td>\n",
       "      <td>0</td>\n",
       "      <td>...</td>\n",
       "      <td>0</td>\n",
       "      <td>0</td>\n",
       "      <td>0</td>\n",
       "      <td>0</td>\n",
       "      <td>0</td>\n",
       "      <td>0</td>\n",
       "      <td>0</td>\n",
       "      <td>0</td>\n",
       "      <td>0</td>\n",
       "      <td>0</td>\n",
       "    </tr>\n",
       "  </tbody>\n",
       "</table>\n",
       "<p>5 rows × 27 columns</p>\n",
       "</div>"
      ],
      "text/plain": [
       "                     genres  Action  Adult  Adventure  Animation  Biography  \\\n",
       "0    [Action, Crime, Drama]       0      0          0          0          0   \n",
       "1        [Biography, Drama]       0      0          0          0          0   \n",
       "2                   [Drama]       0      0          0          0          0   \n",
       "3           [Comedy, Drama]       0      0          0          0          0   \n",
       "4  [Comedy, Drama, Fantasy]       0      0          0          0          0   \n",
       "\n",
       "   Comedy  Crime  Documentary  Drama  ...  Mystery  News  Reality-TV  Romance  \\\n",
       "0       0      0            0      0  ...        0     0           0        0   \n",
       "1       0      0            0      0  ...        0     0           0        0   \n",
       "2       0      0            0      0  ...        0     0           0        0   \n",
       "3       0      0            0      0  ...        0     0           0        0   \n",
       "4       0      0            0      0  ...        0     0           0        0   \n",
       "\n",
       "   Sci-Fi  Short  Sport  Thriller  War  Western  \n",
       "0       0      0      0         0    0        0  \n",
       "1       0      0      0         0    0        0  \n",
       "2       0      0      0         0    0        0  \n",
       "3       0      0      0         0    0        0  \n",
       "4       0      0      0         0    0        0  \n",
       "\n",
       "[5 rows x 27 columns]"
      ]
     },
     "execution_count": 53,
     "metadata": {},
     "output_type": "execute_result"
    }
   ],
   "source": [
    "df_genres.head()"
   ]
  },
  {
   "cell_type": "code",
   "execution_count": 54,
   "metadata": {},
   "outputs": [],
   "source": [
    "# for value in genres_list_data[:5]:\n",
    "#     print(value)"
   ]
  },
  {
   "cell_type": "code",
   "execution_count": 55,
   "metadata": {},
   "outputs": [
    {
     "name": "stderr",
     "output_type": "stream",
     "text": [
      "/Users/janakiganesh/opt/anaconda3/envs/learn-env/lib/python3.6/site-packages/ipykernel_launcher.py:4: SettingWithCopyWarning: \n",
      "A value is trying to be set on a copy of a slice from a DataFrame\n",
      "\n",
      "See the caveats in the documentation: http://pandas.pydata.org/pandas-docs/stable/user_guide/indexing.html#returning-a-view-versus-a-copy\n",
      "  after removing the cwd from sys.path.\n"
     ]
    }
   ],
   "source": [
    "for value in df_genres.index:\n",
    "    for genre in genres_list_data:\n",
    "        if genre in df_genres['genres'][value]:\n",
    "            df_genres[genre][value]=1"
   ]
  },
  {
   "cell_type": "code",
   "execution_count": 56,
   "metadata": {},
   "outputs": [
    {
     "data": {
      "text/html": [
       "<div>\n",
       "<style scoped>\n",
       "    .dataframe tbody tr th:only-of-type {\n",
       "        vertical-align: middle;\n",
       "    }\n",
       "\n",
       "    .dataframe tbody tr th {\n",
       "        vertical-align: top;\n",
       "    }\n",
       "\n",
       "    .dataframe thead th {\n",
       "        text-align: right;\n",
       "    }\n",
       "</style>\n",
       "<table border=\"1\" class=\"dataframe\">\n",
       "  <thead>\n",
       "    <tr style=\"text-align: right;\">\n",
       "      <th></th>\n",
       "      <th>genres</th>\n",
       "      <th>Action</th>\n",
       "      <th>Adult</th>\n",
       "      <th>Adventure</th>\n",
       "      <th>Animation</th>\n",
       "      <th>Biography</th>\n",
       "      <th>Comedy</th>\n",
       "      <th>Crime</th>\n",
       "      <th>Documentary</th>\n",
       "      <th>Drama</th>\n",
       "      <th>...</th>\n",
       "      <th>Mystery</th>\n",
       "      <th>News</th>\n",
       "      <th>Reality-TV</th>\n",
       "      <th>Romance</th>\n",
       "      <th>Sci-Fi</th>\n",
       "      <th>Short</th>\n",
       "      <th>Sport</th>\n",
       "      <th>Thriller</th>\n",
       "      <th>War</th>\n",
       "      <th>Western</th>\n",
       "    </tr>\n",
       "  </thead>\n",
       "  <tbody>\n",
       "    <tr>\n",
       "      <th>0</th>\n",
       "      <td>[Action, Crime, Drama]</td>\n",
       "      <td>1</td>\n",
       "      <td>0</td>\n",
       "      <td>0</td>\n",
       "      <td>0</td>\n",
       "      <td>0</td>\n",
       "      <td>0</td>\n",
       "      <td>1</td>\n",
       "      <td>0</td>\n",
       "      <td>1</td>\n",
       "      <td>...</td>\n",
       "      <td>0</td>\n",
       "      <td>0</td>\n",
       "      <td>0</td>\n",
       "      <td>0</td>\n",
       "      <td>0</td>\n",
       "      <td>0</td>\n",
       "      <td>0</td>\n",
       "      <td>0</td>\n",
       "      <td>0</td>\n",
       "      <td>0</td>\n",
       "    </tr>\n",
       "    <tr>\n",
       "      <th>1</th>\n",
       "      <td>[Biography, Drama]</td>\n",
       "      <td>0</td>\n",
       "      <td>0</td>\n",
       "      <td>0</td>\n",
       "      <td>0</td>\n",
       "      <td>1</td>\n",
       "      <td>0</td>\n",
       "      <td>0</td>\n",
       "      <td>0</td>\n",
       "      <td>1</td>\n",
       "      <td>...</td>\n",
       "      <td>0</td>\n",
       "      <td>0</td>\n",
       "      <td>0</td>\n",
       "      <td>0</td>\n",
       "      <td>0</td>\n",
       "      <td>0</td>\n",
       "      <td>0</td>\n",
       "      <td>0</td>\n",
       "      <td>0</td>\n",
       "      <td>0</td>\n",
       "    </tr>\n",
       "    <tr>\n",
       "      <th>2</th>\n",
       "      <td>[Drama]</td>\n",
       "      <td>0</td>\n",
       "      <td>0</td>\n",
       "      <td>0</td>\n",
       "      <td>0</td>\n",
       "      <td>0</td>\n",
       "      <td>0</td>\n",
       "      <td>0</td>\n",
       "      <td>0</td>\n",
       "      <td>1</td>\n",
       "      <td>...</td>\n",
       "      <td>0</td>\n",
       "      <td>0</td>\n",
       "      <td>0</td>\n",
       "      <td>0</td>\n",
       "      <td>0</td>\n",
       "      <td>0</td>\n",
       "      <td>0</td>\n",
       "      <td>0</td>\n",
       "      <td>0</td>\n",
       "      <td>0</td>\n",
       "    </tr>\n",
       "    <tr>\n",
       "      <th>3</th>\n",
       "      <td>[Comedy, Drama]</td>\n",
       "      <td>0</td>\n",
       "      <td>0</td>\n",
       "      <td>0</td>\n",
       "      <td>0</td>\n",
       "      <td>0</td>\n",
       "      <td>1</td>\n",
       "      <td>0</td>\n",
       "      <td>0</td>\n",
       "      <td>1</td>\n",
       "      <td>...</td>\n",
       "      <td>0</td>\n",
       "      <td>0</td>\n",
       "      <td>0</td>\n",
       "      <td>0</td>\n",
       "      <td>0</td>\n",
       "      <td>0</td>\n",
       "      <td>0</td>\n",
       "      <td>0</td>\n",
       "      <td>0</td>\n",
       "      <td>0</td>\n",
       "    </tr>\n",
       "    <tr>\n",
       "      <th>4</th>\n",
       "      <td>[Comedy, Drama, Fantasy]</td>\n",
       "      <td>0</td>\n",
       "      <td>0</td>\n",
       "      <td>0</td>\n",
       "      <td>0</td>\n",
       "      <td>0</td>\n",
       "      <td>1</td>\n",
       "      <td>0</td>\n",
       "      <td>0</td>\n",
       "      <td>1</td>\n",
       "      <td>...</td>\n",
       "      <td>0</td>\n",
       "      <td>0</td>\n",
       "      <td>0</td>\n",
       "      <td>0</td>\n",
       "      <td>0</td>\n",
       "      <td>0</td>\n",
       "      <td>0</td>\n",
       "      <td>0</td>\n",
       "      <td>0</td>\n",
       "      <td>0</td>\n",
       "    </tr>\n",
       "  </tbody>\n",
       "</table>\n",
       "<p>5 rows × 27 columns</p>\n",
       "</div>"
      ],
      "text/plain": [
       "                     genres  Action  Adult  Adventure  Animation  Biography  \\\n",
       "0    [Action, Crime, Drama]       1      0          0          0          0   \n",
       "1        [Biography, Drama]       0      0          0          0          1   \n",
       "2                   [Drama]       0      0          0          0          0   \n",
       "3           [Comedy, Drama]       0      0          0          0          0   \n",
       "4  [Comedy, Drama, Fantasy]       0      0          0          0          0   \n",
       "\n",
       "   Comedy  Crime  Documentary  Drama  ...  Mystery  News  Reality-TV  Romance  \\\n",
       "0       0      1            0      1  ...        0     0           0        0   \n",
       "1       0      0            0      1  ...        0     0           0        0   \n",
       "2       0      0            0      1  ...        0     0           0        0   \n",
       "3       1      0            0      1  ...        0     0           0        0   \n",
       "4       1      0            0      1  ...        0     0           0        0   \n",
       "\n",
       "   Sci-Fi  Short  Sport  Thriller  War  Western  \n",
       "0       0      0      0         0    0        0  \n",
       "1       0      0      0         0    0        0  \n",
       "2       0      0      0         0    0        0  \n",
       "3       0      0      0         0    0        0  \n",
       "4       0      0      0         0    0        0  \n",
       "\n",
       "[5 rows x 27 columns]"
      ]
     },
     "execution_count": 56,
     "metadata": {},
     "output_type": "execute_result"
    }
   ],
   "source": [
    "df_genres.head()\n",
    "\n"
   ]
  },
  {
   "cell_type": "code",
   "execution_count": 57,
   "metadata": {},
   "outputs": [
    {
     "data": {
      "text/plain": [
       "pandas.core.frame.DataFrame"
      ]
     },
     "execution_count": 57,
     "metadata": {},
     "output_type": "execute_result"
    }
   ],
   "source": [
    "df_genres.columns[0]\n",
    "type(df_genres)"
   ]
  },
  {
   "cell_type": "code",
   "execution_count": 58,
   "metadata": {},
   "outputs": [],
   "source": [
    "# movie_df=pd.merge(df,df_genres,on='genres',how='inner')\n",
    "# movie_df=pd.merge(df, df_genres, left_index=True, right_index=True)\n",
    "movie_df=pd.merge(df,df_genres,left_index=True,right_index=True)\n",
    "movie_df=movie_df.drop('genres_y',axis=1)"
   ]
  },
  {
   "cell_type": "code",
   "execution_count": 59,
   "metadata": {},
   "outputs": [
    {
     "data": {
      "text/html": [
       "<div>\n",
       "<style scoped>\n",
       "    .dataframe tbody tr th:only-of-type {\n",
       "        vertical-align: middle;\n",
       "    }\n",
       "\n",
       "    .dataframe tbody tr th {\n",
       "        vertical-align: top;\n",
       "    }\n",
       "\n",
       "    .dataframe thead th {\n",
       "        text-align: right;\n",
       "    }\n",
       "</style>\n",
       "<table border=\"1\" class=\"dataframe\">\n",
       "  <thead>\n",
       "    <tr style=\"text-align: right;\">\n",
       "      <th></th>\n",
       "      <th>tconst</th>\n",
       "      <th>title</th>\n",
       "      <th>year</th>\n",
       "      <th>runtime_minutes</th>\n",
       "      <th>genres_x</th>\n",
       "      <th>averagerating</th>\n",
       "      <th>numvotes</th>\n",
       "      <th>studio</th>\n",
       "      <th>domestic_gross</th>\n",
       "      <th>foreign_gross</th>\n",
       "      <th>...</th>\n",
       "      <th>Mystery</th>\n",
       "      <th>News</th>\n",
       "      <th>Reality-TV</th>\n",
       "      <th>Romance</th>\n",
       "      <th>Sci-Fi</th>\n",
       "      <th>Short</th>\n",
       "      <th>Sport</th>\n",
       "      <th>Thriller</th>\n",
       "      <th>War</th>\n",
       "      <th>Western</th>\n",
       "    </tr>\n",
       "  </thead>\n",
       "  <tbody>\n",
       "    <tr>\n",
       "      <th>0</th>\n",
       "      <td>tt0063540</td>\n",
       "      <td>Sunghursh</td>\n",
       "      <td>2013</td>\n",
       "      <td>175.0</td>\n",
       "      <td>Action,Crime,Drama</td>\n",
       "      <td>7.0</td>\n",
       "      <td>77</td>\n",
       "      <td>NaN</td>\n",
       "      <td>NaN</td>\n",
       "      <td>NaN</td>\n",
       "      <td>...</td>\n",
       "      <td>0</td>\n",
       "      <td>0</td>\n",
       "      <td>0</td>\n",
       "      <td>0</td>\n",
       "      <td>0</td>\n",
       "      <td>0</td>\n",
       "      <td>0</td>\n",
       "      <td>0</td>\n",
       "      <td>0</td>\n",
       "      <td>0</td>\n",
       "    </tr>\n",
       "    <tr>\n",
       "      <th>1</th>\n",
       "      <td>tt0066787</td>\n",
       "      <td>One Day Before the Rainy Season</td>\n",
       "      <td>2019</td>\n",
       "      <td>114.0</td>\n",
       "      <td>Biography,Drama</td>\n",
       "      <td>7.2</td>\n",
       "      <td>43</td>\n",
       "      <td>NaN</td>\n",
       "      <td>NaN</td>\n",
       "      <td>NaN</td>\n",
       "      <td>...</td>\n",
       "      <td>0</td>\n",
       "      <td>0</td>\n",
       "      <td>0</td>\n",
       "      <td>0</td>\n",
       "      <td>0</td>\n",
       "      <td>0</td>\n",
       "      <td>0</td>\n",
       "      <td>0</td>\n",
       "      <td>0</td>\n",
       "      <td>0</td>\n",
       "    </tr>\n",
       "    <tr>\n",
       "      <th>2</th>\n",
       "      <td>tt0069049</td>\n",
       "      <td>The Other Side of the Wind</td>\n",
       "      <td>2018</td>\n",
       "      <td>122.0</td>\n",
       "      <td>Drama</td>\n",
       "      <td>6.9</td>\n",
       "      <td>4517</td>\n",
       "      <td>NaN</td>\n",
       "      <td>NaN</td>\n",
       "      <td>NaN</td>\n",
       "      <td>...</td>\n",
       "      <td>0</td>\n",
       "      <td>0</td>\n",
       "      <td>0</td>\n",
       "      <td>0</td>\n",
       "      <td>0</td>\n",
       "      <td>0</td>\n",
       "      <td>0</td>\n",
       "      <td>0</td>\n",
       "      <td>0</td>\n",
       "      <td>0</td>\n",
       "    </tr>\n",
       "    <tr>\n",
       "      <th>3</th>\n",
       "      <td>tt0069204</td>\n",
       "      <td>Sabse Bada Sukh</td>\n",
       "      <td>2018</td>\n",
       "      <td>0.0</td>\n",
       "      <td>Comedy,Drama</td>\n",
       "      <td>6.1</td>\n",
       "      <td>13</td>\n",
       "      <td>NaN</td>\n",
       "      <td>NaN</td>\n",
       "      <td>NaN</td>\n",
       "      <td>...</td>\n",
       "      <td>0</td>\n",
       "      <td>0</td>\n",
       "      <td>0</td>\n",
       "      <td>0</td>\n",
       "      <td>0</td>\n",
       "      <td>0</td>\n",
       "      <td>0</td>\n",
       "      <td>0</td>\n",
       "      <td>0</td>\n",
       "      <td>0</td>\n",
       "    </tr>\n",
       "    <tr>\n",
       "      <th>4</th>\n",
       "      <td>tt0100275</td>\n",
       "      <td>The Wandering Soap Opera</td>\n",
       "      <td>2017</td>\n",
       "      <td>80.0</td>\n",
       "      <td>Comedy,Drama,Fantasy</td>\n",
       "      <td>6.5</td>\n",
       "      <td>119</td>\n",
       "      <td>NaN</td>\n",
       "      <td>NaN</td>\n",
       "      <td>NaN</td>\n",
       "      <td>...</td>\n",
       "      <td>0</td>\n",
       "      <td>0</td>\n",
       "      <td>0</td>\n",
       "      <td>0</td>\n",
       "      <td>0</td>\n",
       "      <td>0</td>\n",
       "      <td>0</td>\n",
       "      <td>0</td>\n",
       "      <td>0</td>\n",
       "      <td>0</td>\n",
       "    </tr>\n",
       "  </tbody>\n",
       "</table>\n",
       "<p>5 rows × 36 columns</p>\n",
       "</div>"
      ],
      "text/plain": [
       "      tconst                            title  year  runtime_minutes  \\\n",
       "0  tt0063540                        Sunghursh  2013            175.0   \n",
       "1  tt0066787  One Day Before the Rainy Season  2019            114.0   \n",
       "2  tt0069049       The Other Side of the Wind  2018            122.0   \n",
       "3  tt0069204                  Sabse Bada Sukh  2018              0.0   \n",
       "4  tt0100275         The Wandering Soap Opera  2017             80.0   \n",
       "\n",
       "               genres_x  averagerating  numvotes studio  domestic_gross  \\\n",
       "0    Action,Crime,Drama            7.0        77    NaN             NaN   \n",
       "1       Biography,Drama            7.2        43    NaN             NaN   \n",
       "2                 Drama            6.9      4517    NaN             NaN   \n",
       "3          Comedy,Drama            6.1        13    NaN             NaN   \n",
       "4  Comedy,Drama,Fantasy            6.5       119    NaN             NaN   \n",
       "\n",
       "   foreign_gross  ...  Mystery  News  Reality-TV  Romance  Sci-Fi  Short  \\\n",
       "0            NaN  ...        0     0           0        0       0      0   \n",
       "1            NaN  ...        0     0           0        0       0      0   \n",
       "2            NaN  ...        0     0           0        0       0      0   \n",
       "3            NaN  ...        0     0           0        0       0      0   \n",
       "4            NaN  ...        0     0           0        0       0      0   \n",
       "\n",
       "   Sport  Thriller  War  Western  \n",
       "0      0         0    0        0  \n",
       "1      0         0    0        0  \n",
       "2      0         0    0        0  \n",
       "3      0         0    0        0  \n",
       "4      0         0    0        0  \n",
       "\n",
       "[5 rows x 36 columns]"
      ]
     },
     "execution_count": 59,
     "metadata": {},
     "output_type": "execute_result"
    }
   ],
   "source": [
    "movie_df.head()"
   ]
  },
  {
   "cell_type": "code",
   "execution_count": 62,
   "metadata": {},
   "outputs": [
    {
     "name": "stdout",
     "output_type": "stream",
     "text": [
      "<class 'pandas.core.frame.DataFrame'>\n",
      "Int64Index: 72300 entries, 0 to 72299\n",
      "Data columns (total 36 columns):\n",
      "tconst             72300 non-null object\n",
      "title              72300 non-null object\n",
      "year               72300 non-null int64\n",
      "runtime_minutes    72300 non-null float64\n",
      "genres_x           72300 non-null object\n",
      "averagerating      72300 non-null float64\n",
      "numvotes           72300 non-null int64\n",
      "studio             1820 non-null object\n",
      "domestic_gross     1812 non-null float64\n",
      "foreign_gross      1252 non-null float64\n",
      "Action             72300 non-null int64\n",
      "Adult              72300 non-null int64\n",
      "Adventure          72300 non-null int64\n",
      "Animation          72300 non-null int64\n",
      "Biography          72300 non-null int64\n",
      "Comedy             72300 non-null int64\n",
      "Crime              72300 non-null int64\n",
      "Documentary        72300 non-null int64\n",
      "Drama              72300 non-null int64\n",
      "Family             72300 non-null int64\n",
      "Fantasy            72300 non-null int64\n",
      "Game-Show          72300 non-null int64\n",
      "History            72300 non-null int64\n",
      "Horror             72300 non-null int64\n",
      "Music              72300 non-null int64\n",
      "Musical            72300 non-null int64\n",
      "Mystery            72300 non-null int64\n",
      "News               72300 non-null int64\n",
      "Reality-TV         72300 non-null int64\n",
      "Romance            72300 non-null int64\n",
      "Sci-Fi             72300 non-null int64\n",
      "Short              72300 non-null int64\n",
      "Sport              72300 non-null int64\n",
      "Thriller           72300 non-null int64\n",
      "War                72300 non-null int64\n",
      "Western            72300 non-null int64\n",
      "dtypes: float64(4), int64(28), object(4)\n",
      "memory usage: 22.9+ MB\n"
     ]
    }
   ],
   "source": [
    "movie_df.info()\n",
    "\n"
   ]
  },
  {
   "cell_type": "code",
   "execution_count": 63,
   "metadata": {},
   "outputs": [],
   "source": [
    "# empty_list=[]\n",
    "# for n in genres_list_data:\n",
    "#     for val in df1[n]:\n",
    "#         if df1['averagerating']:\n",
    "#                 print(df1['averagerating'])\n",
    "# for n in genres_list_data:\n",
    "#     for val in movie_df[n]:\n",
    "#         if val==1:\n",
    "#             print('{} :movie_df[n]'.format(n))\n",
    "\n",
    "# max_rating['Adventure'].hist()\n",
    "# plt.show()\n",
    "max_rating=movie_df[movie_df['averagerating'] > 7.0]             \n",
    "\n",
    "# df2=max_rating.head(30)\n",
    "# df2['Adult']\n"
   ]
  },
  {
   "cell_type": "code",
   "execution_count": null,
   "metadata": {},
   "outputs": [],
   "source": [
    "# max_rating.plot(kind='hist',x='Action',y='averagerating',figsize=(8,4))\n",
    "# max_rating['Action'].hist()"
   ]
  },
  {
   "cell_type": "code",
   "execution_count": null,
   "metadata": {},
   "outputs": [],
   "source": [
    "# top 6 genres by the total number of movies\n",
    "# top6_genre = (tidy_movie_ratings.iloc[:, 4:-1] # get the genre columns only\n",
    "#               .sum() # sum them up\n",
    "#               .sort_values(ascending=False) # sort descending\n",
    "#               .head(6) # get the first 6\n",
    "#               .index.values # get the genre names\n",
    "#               )\n",
    "\n",
    "# top6_genre\n",
    "# genre_groups = (tidy_movie_ratings.iloc[:, 4:]\n",
    "#                 .groupby(\"production_year\")\n",
    "#                 .sum()\n",
    "#                ).loc[\"2000\":\"2019\", top6_genre] # since 2000"
   ]
  },
  {
   "cell_type": "code",
   "execution_count": 94,
   "metadata": {},
   "outputs": [],
   "source": [
    "genres_data=(max_rating.iloc[:,10:].sum().sort_values(ascending=False).head(5).index.values)\n"
   ]
  },
  {
   "cell_type": "code",
   "execution_count": 91,
   "metadata": {},
   "outputs": [
    {
     "data": {
      "text/plain": [
       "array(['Documentary', 'Drama', 'Comedy', 'Biography', 'Action', 'History',\n",
       "       'Romance', 'Thriller', 'Adventure', 'Crime'], dtype=object)"
      ]
     },
     "execution_count": 91,
     "metadata": {},
     "output_type": "execute_result"
    }
   ],
   "source": [
    "genres_data"
   ]
  },
  {
   "cell_type": "code",
   "execution_count": 101,
   "metadata": {},
   "outputs": [],
   "source": [
    "genre_groups=(max_rating.iloc[:,2:].groupby(by='year').sum()).loc['2000':'2020',genres_data]\n"
   ]
  },
  {
   "cell_type": "code",
   "execution_count": 67,
   "metadata": {},
   "outputs": [
    {
     "data": {
      "text/html": [
       "<div>\n",
       "<style scoped>\n",
       "    .dataframe tbody tr th:only-of-type {\n",
       "        vertical-align: middle;\n",
       "    }\n",
       "\n",
       "    .dataframe tbody tr th {\n",
       "        vertical-align: top;\n",
       "    }\n",
       "\n",
       "    .dataframe thead th {\n",
       "        text-align: right;\n",
       "    }\n",
       "</style>\n",
       "<table border=\"1\" class=\"dataframe\">\n",
       "  <thead>\n",
       "    <tr style=\"text-align: right;\">\n",
       "      <th></th>\n",
       "      <th>Action</th>\n",
       "      <th>Adult</th>\n",
       "      <th>Adventure</th>\n",
       "      <th>Animation</th>\n",
       "      <th>Biography</th>\n",
       "      <th>Comedy</th>\n",
       "      <th>Crime</th>\n",
       "      <th>Documentary</th>\n",
       "      <th>Drama</th>\n",
       "      <th>Family</th>\n",
       "      <th>...</th>\n",
       "      <th>Mystery</th>\n",
       "      <th>News</th>\n",
       "      <th>Reality-TV</th>\n",
       "      <th>Romance</th>\n",
       "      <th>Sci-Fi</th>\n",
       "      <th>Short</th>\n",
       "      <th>Sport</th>\n",
       "      <th>Thriller</th>\n",
       "      <th>War</th>\n",
       "      <th>Western</th>\n",
       "    </tr>\n",
       "    <tr>\n",
       "      <th>year</th>\n",
       "      <th></th>\n",
       "      <th></th>\n",
       "      <th></th>\n",
       "      <th></th>\n",
       "      <th></th>\n",
       "      <th></th>\n",
       "      <th></th>\n",
       "      <th></th>\n",
       "      <th></th>\n",
       "      <th></th>\n",
       "      <th></th>\n",
       "      <th></th>\n",
       "      <th></th>\n",
       "      <th></th>\n",
       "      <th></th>\n",
       "      <th></th>\n",
       "      <th></th>\n",
       "      <th></th>\n",
       "      <th></th>\n",
       "      <th></th>\n",
       "      <th></th>\n",
       "    </tr>\n",
       "  </thead>\n",
       "  <tbody>\n",
       "    <tr>\n",
       "      <th>2010</th>\n",
       "      <td>129</td>\n",
       "      <td>0</td>\n",
       "      <td>81</td>\n",
       "      <td>52</td>\n",
       "      <td>187</td>\n",
       "      <td>346</td>\n",
       "      <td>87</td>\n",
       "      <td>1039</td>\n",
       "      <td>756</td>\n",
       "      <td>87</td>\n",
       "      <td>...</td>\n",
       "      <td>47</td>\n",
       "      <td>41</td>\n",
       "      <td>1</td>\n",
       "      <td>138</td>\n",
       "      <td>21</td>\n",
       "      <td>0</td>\n",
       "      <td>46</td>\n",
       "      <td>90</td>\n",
       "      <td>41</td>\n",
       "      <td>7</td>\n",
       "    </tr>\n",
       "    <tr>\n",
       "      <th>2011</th>\n",
       "      <td>136</td>\n",
       "      <td>0</td>\n",
       "      <td>113</td>\n",
       "      <td>55</td>\n",
       "      <td>223</td>\n",
       "      <td>376</td>\n",
       "      <td>121</td>\n",
       "      <td>1172</td>\n",
       "      <td>848</td>\n",
       "      <td>114</td>\n",
       "      <td>...</td>\n",
       "      <td>52</td>\n",
       "      <td>44</td>\n",
       "      <td>0</td>\n",
       "      <td>121</td>\n",
       "      <td>24</td>\n",
       "      <td>0</td>\n",
       "      <td>60</td>\n",
       "      <td>120</td>\n",
       "      <td>34</td>\n",
       "      <td>7</td>\n",
       "    </tr>\n",
       "    <tr>\n",
       "      <th>2012</th>\n",
       "      <td>160</td>\n",
       "      <td>0</td>\n",
       "      <td>126</td>\n",
       "      <td>37</td>\n",
       "      <td>232</td>\n",
       "      <td>396</td>\n",
       "      <td>132</td>\n",
       "      <td>1188</td>\n",
       "      <td>908</td>\n",
       "      <td>112</td>\n",
       "      <td>...</td>\n",
       "      <td>58</td>\n",
       "      <td>46</td>\n",
       "      <td>0</td>\n",
       "      <td>147</td>\n",
       "      <td>21</td>\n",
       "      <td>0</td>\n",
       "      <td>49</td>\n",
       "      <td>114</td>\n",
       "      <td>35</td>\n",
       "      <td>9</td>\n",
       "    </tr>\n",
       "    <tr>\n",
       "      <th>2013</th>\n",
       "      <td>148</td>\n",
       "      <td>0</td>\n",
       "      <td>140</td>\n",
       "      <td>49</td>\n",
       "      <td>287</td>\n",
       "      <td>415</td>\n",
       "      <td>125</td>\n",
       "      <td>1223</td>\n",
       "      <td>1033</td>\n",
       "      <td>172</td>\n",
       "      <td>...</td>\n",
       "      <td>60</td>\n",
       "      <td>64</td>\n",
       "      <td>1</td>\n",
       "      <td>165</td>\n",
       "      <td>33</td>\n",
       "      <td>0</td>\n",
       "      <td>72</td>\n",
       "      <td>139</td>\n",
       "      <td>22</td>\n",
       "      <td>5</td>\n",
       "    </tr>\n",
       "    <tr>\n",
       "      <th>2014</th>\n",
       "      <td>182</td>\n",
       "      <td>0</td>\n",
       "      <td>147</td>\n",
       "      <td>66</td>\n",
       "      <td>353</td>\n",
       "      <td>411</td>\n",
       "      <td>132</td>\n",
       "      <td>1351</td>\n",
       "      <td>1088</td>\n",
       "      <td>160</td>\n",
       "      <td>...</td>\n",
       "      <td>77</td>\n",
       "      <td>77</td>\n",
       "      <td>1</td>\n",
       "      <td>167</td>\n",
       "      <td>31</td>\n",
       "      <td>0</td>\n",
       "      <td>85</td>\n",
       "      <td>143</td>\n",
       "      <td>50</td>\n",
       "      <td>13</td>\n",
       "    </tr>\n",
       "    <tr>\n",
       "      <th>2015</th>\n",
       "      <td>165</td>\n",
       "      <td>0</td>\n",
       "      <td>121</td>\n",
       "      <td>53</td>\n",
       "      <td>300</td>\n",
       "      <td>368</td>\n",
       "      <td>133</td>\n",
       "      <td>1373</td>\n",
       "      <td>992</td>\n",
       "      <td>118</td>\n",
       "      <td>...</td>\n",
       "      <td>61</td>\n",
       "      <td>60</td>\n",
       "      <td>2</td>\n",
       "      <td>147</td>\n",
       "      <td>29</td>\n",
       "      <td>0</td>\n",
       "      <td>70</td>\n",
       "      <td>161</td>\n",
       "      <td>34</td>\n",
       "      <td>5</td>\n",
       "    </tr>\n",
       "    <tr>\n",
       "      <th>2016</th>\n",
       "      <td>181</td>\n",
       "      <td>0</td>\n",
       "      <td>147</td>\n",
       "      <td>66</td>\n",
       "      <td>224</td>\n",
       "      <td>439</td>\n",
       "      <td>139</td>\n",
       "      <td>1379</td>\n",
       "      <td>1044</td>\n",
       "      <td>100</td>\n",
       "      <td>...</td>\n",
       "      <td>86</td>\n",
       "      <td>13</td>\n",
       "      <td>2</td>\n",
       "      <td>176</td>\n",
       "      <td>44</td>\n",
       "      <td>0</td>\n",
       "      <td>78</td>\n",
       "      <td>176</td>\n",
       "      <td>40</td>\n",
       "      <td>5</td>\n",
       "    </tr>\n",
       "    <tr>\n",
       "      <th>2017</th>\n",
       "      <td>200</td>\n",
       "      <td>0</td>\n",
       "      <td>125</td>\n",
       "      <td>74</td>\n",
       "      <td>170</td>\n",
       "      <td>438</td>\n",
       "      <td>117</td>\n",
       "      <td>1291</td>\n",
       "      <td>1102</td>\n",
       "      <td>120</td>\n",
       "      <td>...</td>\n",
       "      <td>83</td>\n",
       "      <td>5</td>\n",
       "      <td>0</td>\n",
       "      <td>187</td>\n",
       "      <td>53</td>\n",
       "      <td>0</td>\n",
       "      <td>65</td>\n",
       "      <td>161</td>\n",
       "      <td>41</td>\n",
       "      <td>7</td>\n",
       "    </tr>\n",
       "    <tr>\n",
       "      <th>2018</th>\n",
       "      <td>167</td>\n",
       "      <td>0</td>\n",
       "      <td>116</td>\n",
       "      <td>67</td>\n",
       "      <td>120</td>\n",
       "      <td>482</td>\n",
       "      <td>110</td>\n",
       "      <td>994</td>\n",
       "      <td>1081</td>\n",
       "      <td>88</td>\n",
       "      <td>...</td>\n",
       "      <td>72</td>\n",
       "      <td>3</td>\n",
       "      <td>1</td>\n",
       "      <td>175</td>\n",
       "      <td>49</td>\n",
       "      <td>1</td>\n",
       "      <td>59</td>\n",
       "      <td>184</td>\n",
       "      <td>28</td>\n",
       "      <td>7</td>\n",
       "    </tr>\n",
       "    <tr>\n",
       "      <th>2019</th>\n",
       "      <td>69</td>\n",
       "      <td>0</td>\n",
       "      <td>43</td>\n",
       "      <td>24</td>\n",
       "      <td>47</td>\n",
       "      <td>197</td>\n",
       "      <td>40</td>\n",
       "      <td>278</td>\n",
       "      <td>425</td>\n",
       "      <td>40</td>\n",
       "      <td>...</td>\n",
       "      <td>28</td>\n",
       "      <td>1</td>\n",
       "      <td>0</td>\n",
       "      <td>69</td>\n",
       "      <td>28</td>\n",
       "      <td>0</td>\n",
       "      <td>15</td>\n",
       "      <td>78</td>\n",
       "      <td>9</td>\n",
       "      <td>2</td>\n",
       "    </tr>\n",
       "  </tbody>\n",
       "</table>\n",
       "<p>10 rows × 26 columns</p>\n",
       "</div>"
      ],
      "text/plain": [
       "      Action  Adult  Adventure  Animation  Biography  Comedy  Crime  \\\n",
       "year                                                                  \n",
       "2010     129      0         81         52        187     346     87   \n",
       "2011     136      0        113         55        223     376    121   \n",
       "2012     160      0        126         37        232     396    132   \n",
       "2013     148      0        140         49        287     415    125   \n",
       "2014     182      0        147         66        353     411    132   \n",
       "2015     165      0        121         53        300     368    133   \n",
       "2016     181      0        147         66        224     439    139   \n",
       "2017     200      0        125         74        170     438    117   \n",
       "2018     167      0        116         67        120     482    110   \n",
       "2019      69      0         43         24         47     197     40   \n",
       "\n",
       "      Documentary  Drama  Family  ...  Mystery  News  Reality-TV  Romance  \\\n",
       "year                              ...                                       \n",
       "2010         1039    756      87  ...       47    41           1      138   \n",
       "2011         1172    848     114  ...       52    44           0      121   \n",
       "2012         1188    908     112  ...       58    46           0      147   \n",
       "2013         1223   1033     172  ...       60    64           1      165   \n",
       "2014         1351   1088     160  ...       77    77           1      167   \n",
       "2015         1373    992     118  ...       61    60           2      147   \n",
       "2016         1379   1044     100  ...       86    13           2      176   \n",
       "2017         1291   1102     120  ...       83     5           0      187   \n",
       "2018          994   1081      88  ...       72     3           1      175   \n",
       "2019          278    425      40  ...       28     1           0       69   \n",
       "\n",
       "      Sci-Fi  Short  Sport  Thriller  War  Western  \n",
       "year                                                \n",
       "2010      21      0     46        90   41        7  \n",
       "2011      24      0     60       120   34        7  \n",
       "2012      21      0     49       114   35        9  \n",
       "2013      33      0     72       139   22        5  \n",
       "2014      31      0     85       143   50       13  \n",
       "2015      29      0     70       161   34        5  \n",
       "2016      44      0     78       176   40        5  \n",
       "2017      53      0     65       161   41        7  \n",
       "2018      49      1     59       184   28        7  \n",
       "2019      28      0     15        78    9        2  \n",
       "\n",
       "[10 rows x 26 columns]"
      ]
     },
     "execution_count": 67,
     "metadata": {},
     "output_type": "execute_result"
    }
   ],
   "source": [
    "genre_groups"
   ]
  },
  {
   "cell_type": "code",
   "execution_count": null,
   "metadata": {},
   "outputs": [],
   "source": [
    "# genre_groups.rolling(2).mean().plot(figsize=(15,5),\n",
    "#                                     title=\"Total Rated Films\")"
   ]
  },
  {
   "cell_type": "code",
   "execution_count": 102,
   "metadata": {
    "scrolled": true
   },
   "outputs": [
    {
     "data": {
      "text/plain": [
       "<matplotlib.axes._subplots.AxesSubplot at 0x7f9a2482aef0>"
      ]
     },
     "execution_count": 102,
     "metadata": {},
     "output_type": "execute_result"
    },
    {
     "data": {
      "image/png": "[encoded data removed]",
      "text/plain": [
       "<Figure size 1080x360 with 1 Axes>"
      ]
     },
     "metadata": {
      "needs_background": "light"
     },
     "output_type": "display_data"
    }
   ],
   "source": [
    "genre_groups.plot(figsize=(15,5))"
   ]
  },
  {
   "cell_type": "code",
   "execution_count": 86,
   "metadata": {},
   "outputs": [
    {
     "data": {
      "text/plain": [
       "1537"
      ]
     },
     "execution_count": 86,
     "metadata": {},
     "output_type": "execute_result"
    }
   ],
   "source": [
    "max_rating['Action'].sum()"
   ]
  },
  {
   "cell_type": "code",
   "execution_count": 79,
   "metadata": {},
   "outputs": [
    {
     "data": {
      "text/plain": [
       "Index(['Action', 'Adult', 'Adventure', 'Animation', 'Biography', 'Comedy',\n",
       "       'Crime', 'Documentary', 'Drama', 'Family', 'Fantasy', 'Game-Show',\n",
       "       'History', 'Horror', 'Music', 'Musical', 'Mystery', 'News',\n",
       "       'Reality-TV', 'Romance', 'Sci-Fi', 'Short', 'Sport', 'Thriller', 'War',\n",
       "       'Western'],\n",
       "      dtype='object')"
      ]
     },
     "execution_count": 79,
     "metadata": {},
     "output_type": "execute_result"
    }
   ],
   "source": [
    "max_rating.columns[10:]"
   ]
  },
  {
   "cell_type": "code",
   "execution_count": null,
   "metadata": {},
   "outputs": [],
   "source": []
  },
  {
   "cell_type": "code",
   "execution_count": null,
   "metadata": {},
   "outputs": [],
   "source": []
  },
  {
   "cell_type": "code",
   "execution_count": null,
   "metadata": {},
   "outputs": [],
   "source": []
  },
  {
   "cell_type": "code",
   "execution_count": null,
   "metadata": {},
   "outputs": [],
   "source": []
  },
  {
   "cell_type": "code",
   "execution_count": null,
   "metadata": {},
   "outputs": [],
   "source": []
  },
  {
   "cell_type": "code",
   "execution_count": null,
   "metadata": {},
   "outputs": [],
   "source": []
  },
  {
   "cell_type": "code",
   "execution_count": 63,
   "metadata": {},
   "outputs": [
    {
     "ename": "NameError",
     "evalue": "name 'val_1' is not defined",
     "output_type": "error",
     "traceback": [
      "\u001b[0;31m---------------------------------------------------------------------------\u001b[0m",
      "\u001b[0;31mNameError\u001b[0m                                 Traceback (most recent call last)",
      "\u001b[0;32m<ipython-input-63-84ecb16c2cf4>\u001b[0m in \u001b[0;36m<module>\u001b[0;34m()\u001b[0m\n\u001b[1;32m     27\u001b[0m \u001b[0;34m\u001b[0m\u001b[0m\n\u001b[1;32m     28\u001b[0m \u001b[0;34m\u001b[0m\u001b[0m\n\u001b[0;32m---> 29\u001b[0;31m \u001b[0mval_1\u001b[0m\u001b[0;34m\u001b[0m\u001b[0;34m\u001b[0m\u001b[0m\n\u001b[0m",
      "\u001b[0;31mNameError\u001b[0m: name 'val_1' is not defined"
     ]
    }
   ],
   "source": [
    "# val_1=movie_df[(movie_df['Action']==1)&(movie_df['Adult']==1)]\n",
    "# val_1=movie_df.loc[movie_df[['Comedy', 'Crime', 'Documentary']] == 1]\n",
    "               \n",
    "               \n",
    "               \n",
    "#                &(movie_df['Adventure']==1)]\n",
    "               \n",
    "               \n",
    "               \n",
    "               \n",
    "#(movie_df['Adventure']==1)&(movie_df['Animation']==1)&(movie_df['Biography']==1)&(movie_df['Comedy']==1)&(movie_df['Crime']==1)&(movie_df['Documentary']==1)&(movie_df['Drama']==1)&(movie_df['Family']==1)&(movie_df['Fantasy']==1)&(movie_df['Game-Show']==1)&(movie_df['History']==1)&(movie_df['Music']==1)&(movie_df['Musical']==1)&(movie_df['Mystery']==1)&(movie_df['News']==1)&(movie_df['Reality-TV']==1)&(movie_df['Romance']==1)&(movie_df['Sci-Fi']==1)&(movie_df['Short']==1)&(movie_df['Sport']==1)&(movie_df['Thriller']==1)&(movie_df['War']==1)&(movie_df['Western']==1)]\n",
    "\n",
    "\n",
    "\n",
    "\n",
    "# (movie_df['Action']==1)&(movie_df['Adult']==1)&(movie_df['Adventure']==1)&(movie_df['Animation']==1)&\n",
    "# (movie_df['Biography']==1)&(movie_df['Comedy']==1)&(movie_df['Crime']==1)&(movie_df['Documentary']==1)&\n",
    "# (movie_df['Drama']==1)&(movie_df['Family']==1)&(movie_df['Fantasy']==1)&(movie_df['Game-Show']==1)&movie_df['History']==1&\n",
    "# (movie_df['Music']==1)&(movie_df['Musical']==1)&(movie_df['Mystery']==1)&(movie_df['News']==1)&\n",
    "# (movie_df['Reality-TV']==1)&(movie_df['Romance']==1)&(movie_df['Sci-Fi']==1)&(movie_df['Short']==1)&(movie_df['Sport']==1)&\n",
    "# (movie_df['Thriller']==1)&(movie_df['War']==1)&(movie_df['Western']==1)\n",
    "\n",
    "\n",
    "\n",
    "\n",
    "\n",
    "\n",
    "\n",
    "val_1"
   ]
  },
  {
   "cell_type": "code",
   "execution_count": null,
   "metadata": {},
   "outputs": [],
   "source": [
    "max_rating.columns"
   ]
  },
  {
   "cell_type": "code",
   "execution_count": null,
   "metadata": {},
   "outputs": [],
   "source": [
    "# max_rating.plot(kind='hist',x='averagerating',y='Documentary')\n",
    "# max_rating[['Action', 'Adult', 'Adventure',\n",
    "#        'Animation', 'Biography', 'Comedy', 'Crime', 'Documentary', 'Drama',\n",
    "#        'Family', 'Fantasy', 'Game-Show', 'History', 'Horror', 'Music',\n",
    "#        'Musical', 'Mystery', 'News', 'Reality-TV', 'Romance', 'Sci-Fi',\n",
    "#        'Short', 'Sport', 'Thriller', 'War', 'Western']].hist(figsize=(20,10))\n",
    "# max_rating.plot(kind='hist',x='averagerating',y=[max_rating['Action'],max_rating['Adult'],max_rating['Adventure'],max_rating['Animation'],max_rating['Biography'],max_rating[''],max_rating[''],max_rating[''],max_rating[''],max_rating[''],max_rating[''],max_rating[''],max_rating[''],max_rating[''],max_rating[''],max_rating[''],max_rating[''],max_rating[''],max_rating[''],max_rating[''],max_rating['']])\n",
    "val_1.plot(kind='hist',x='averagerating',y=['Action', 'Adult', 'Adventure', 'Animation',\n",
    "       'Biography', 'Comedy', 'Crime', 'Documentary', 'Drama', 'Family',\n",
    "       'Fantasy', 'Game-Show', 'History', 'Horror', 'Music', 'Musical',\n",
    "       'Mystery', 'News', 'Reality-TV', 'Romance', 'Sci-Fi', 'Short', 'Sport',\n",
    "       'Thriller', 'War', 'Western'],figsize=(20,10))\n",
    "plt.show()\n",
    "# df2.groupby(\"Action\").plot(kind='hist',x='averagerating',y=['Action','Adult'],figsize=(10,10))\n",
    "# df.groupby(\"country\")['unemployment'].mean().plot(kind='bar')\n"
   ]
  },
  {
   "cell_type": "code",
   "execution_count": null,
   "metadata": {},
   "outputs": [],
   "source": [
    "# value_1 = max_rating[['Action','Adult', 'Adventure', 'Animation','Biography']] == 1\n",
    "# value_1\n",
    "# # value_0 = df2[df2['Adult'] == 1]\n",
    "# def show_distplot(dataframe, column_name):\n",
    "#     plt.plot()\n",
    "# value1['Adventure'].hist(figsize=(10,10))\n",
    "# #     plt.title('Distribution of {} for {} heroes'.format(column_name, gender))\n",
    "# #     plt.xlabel(column_name)\n",
    "# #     plt.ylabel('Probability Density')\n",
    "# plt.show()"
   ]
  },
  {
   "cell_type": "code",
   "execution_count": null,
   "metadata": {},
   "outputs": [],
   "source": [
    "# show_distplot(value_1, ['Action','Adult','Adventure', 'Animation','Biography'])\n"
   ]
  },
  {
   "cell_type": "code",
   "execution_count": null,
   "metadata": {},
   "outputs": [],
   "source": [
    "male_heroes_df = heroes_df[heroes_df['Gender'] == 'Male']\n",
    "female_heroes_df = heroes_df[heroes_df['Gender'] == 'Female']\n",
    "\n",
    "def show_distplot(dataframe, gender, column_name):\n",
    "    plt.plot()\n",
    "    dataframe[column_name].hist()\n",
    "    plt.title('Distribution of {} for {} heroes'.format(column_name, gender))\n",
    "    plt.xlabel(column_name)\n",
    "    plt.ylabel('Probability Density')\n",
    "    plt.show()\n",
    "show_distplot(male_heroes_df, 'Male', 'Height')\n",
    "print('Mean height for male heroes: {}'.format(male_heroes_df.Height.mean()))\n",
    "print('Median height for male heroes: {}'.format(male_heroes_df.Height.median()))"
   ]
  },
  {
   "cell_type": "code",
   "execution_count": null,
   "metadata": {},
   "outputs": [],
   "source": [
    "empty_list1=[]\n",
    "for n in genres_list_data:\n",
    "    for val in df2[n]:\n",
    "        if df2[n]==1:\n",
    "            empty_list1.append(val)\n",
    "            \n",
    "# for i in range(0,5):\n",
    "#     empty_list1.append(i)\n",
    "#     print(empty_list1)\n",
    "empty_list1\n",
    "\n"
   ]
  },
  {
   "cell_type": "code",
   "execution_count": null,
   "metadata": {},
   "outputs": [],
   "source": [
    "for n in genres_list_data:\n",
    "    for val in max_rating[n]:\n",
    "        if val==1:\n",
    "            print(max_rating[n])"
   ]
  },
  {
   "cell_type": "code",
   "execution_count": null,
   "metadata": {},
   "outputs": [],
   "source": [
    "# def genres_analysis(dataframe,genres_list):\n",
    "#     genres_val=[]\n",
    "#     for n in genres_list:\n",
    "#         if dataframe[n]:\n",
    "#             x=genres_val.append(dataframe[n])\n",
    "#             y=dataframe['averagerating']\n",
    "#             plt.bar(x,y)\n",
    "#             plt.show()\n"
   ]
  },
  {
   "cell_type": "code",
   "execution_count": null,
   "metadata": {
    "scrolled": true
   },
   "outputs": [],
   "source": [
    "# # list_empty=[]\n",
    "# # for n in \n",
    "\n",
    "# # df1.plot(kind='hist',x='averagerating',y=['Action','Adult','Biography'],figsize=(10,5))\n",
    "# # plt.xlabel('Genre')\n",
    "# # plt.ylabel('rating')\n",
    "# df1.plot.line(x='averagerating',y=['Action','Adult','Biography'])\n",
    "# plt.show()\n",
    "\n",
    "# plot(df1(:,'averagerating'), df1(:,'Action':'Adult')')\n",
    "       \n",
    "              \n",
    "              "
   ]
  },
  {
   "cell_type": "code",
   "execution_count": null,
   "metadata": {},
   "outputs": [],
   "source": [
    "df1"
   ]
  },
  {
   "cell_type": "code",
   "execution_count": null,
   "metadata": {},
   "outputs": [],
   "source": []
  },
  {
   "cell_type": "code",
   "execution_count": null,
   "metadata": {},
   "outputs": [],
   "source": []
  },
  {
   "cell_type": "code",
   "execution_count": null,
   "metadata": {},
   "outputs": [],
   "source": []
  },
  {
   "cell_type": "code",
   "execution_count": null,
   "metadata": {},
   "outputs": [],
   "source": []
  }
 ],
 "metadata": {
  "kernelspec": {
   "display_name": "Python 3",
   "language": "python",
   "name": "python3"
  },
  "language_info": {
   "codemirror_mode": {
    "name": "ipython",
    "version": 3
   },
   "file_extension": ".py",
   "mimetype": "text/x-python",
   "name": "python",
   "nbconvert_exporter": "python",
   "pygments_lexer": "ipython3",
   "version": "3.6.9"
  }
 },
 "nbformat": 4,
 "nbformat_minor": 2
}
